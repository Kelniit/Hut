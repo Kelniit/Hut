{
  "cells": [
    {
      "cell_type": "markdown",
      "metadata": {
        "id": "8yTC5kc-KDpE"
      },
      "source": [
        "### `Lab 01`"
      ]
    },
    {
      "cell_type": "code",
      "execution_count": 1,
      "metadata": {
        "id": "cEUl2ABQjY_D"
      },
      "outputs": [],
      "source": [
        "import tensorflow as tf\n",
        "\n",
        "import os, pathlib, warnings, urllib, shutil\n",
        "\n",
        "warnings.filterwarnings(\"ignore\")"
      ]
    },
    {
      "cell_type": "markdown",
      "metadata": {
        "id": "2J9eg0wrKiY4"
      },
      "source": [
        "#### `Helper`"
      ]
    },
    {
      "cell_type": "code",
      "execution_count": 2,
      "metadata": {
        "id": "_Jb0iDUAixVK"
      },
      "outputs": [],
      "source": [
        "def GitFile(local, user, repo, folder, gitfile, branch='main'):\n",
        "  \"\"\"\n",
        "  Download GitHub Raw File if Unavailable Locally\n",
        "  \"\"\"\n",
        "  if not os.path.exists(local):\n",
        "\n",
        "    url = f\"https://raw.githubusercontent.com/{user}/{repo}/{branch}/{folder}/{gitfile}\"\n",
        "\n",
        "    urllib.request.urlretrieve(url, local)\n",
        "\n",
        "  return pathlib.Path(local)"
      ]
    },
    {
      "cell_type": "code",
      "execution_count": null,
      "metadata": {
        "colab": {
          "base_uri": "https://localhost:8080/"
        },
        "id": "jjyfGeVdjXxn",
        "outputId": "bff63742-2e02-408c-bee8-117023f6f847"
      },
      "outputs": [
        {
          "data": {
            "text/plain": [
              "PosixPath('Helper.py')"
            ]
          },
          "execution_count": 3,
          "metadata": {},
          "output_type": "execute_result"
        }
      ],
      "source": [
        "GitFile(\"Helplot.py\", \"Kelnit\", \"Int\", \"Hut\", \"Helper.py\")\n",
        "\n",
        "GitFile(\"Helper.py\", \"Kelnit\", \"Int\", \"Hart\", \"Helper.py\")"
      ]
    },
    {
      "cell_type": "markdown",
      "metadata": {
        "id": "IBe6quKpKoew"
      },
      "source": [
        "#### `Git Origin`"
      ]
    },
    {
      "cell_type": "code",
      "execution_count": 4,
      "metadata": {
        "id": "u7l8c_i6j_kj"
      },
      "outputs": [],
      "source": [
        "giturl = \"https://github.com/dicodingacademy/assets/releases/download/release/\"\n",
        "\n",
        "dataset = \"rockpaperscissors.zip\"\n",
        "\n",
        "urllib.request.urlretrieve(os.path.join(giturl, dataset), dataset)\n",
        "\n",
        "shutil.unpack_archive('rockpaperscissors.zip', '/content', 'zip')"
      ]
    },
    {
      "cell_type": "code",
      "execution_count": 5,
      "metadata": {
        "colab": {
          "base_uri": "https://localhost:8080/"
        },
        "id": "-07-TYClkBrB",
        "outputId": "0197a84d-21bf-4d4c-a7a3-173b10ab1e96"
      },
      "outputs": [
        {
          "data": {
            "text/plain": [
              "['paper', 'rock', 'scissors']"
            ]
          },
          "execution_count": 5,
          "metadata": {},
          "output_type": "execute_result"
        }
      ],
      "source": [
        "root = \"/content/rockpaperscissors/rps-cv-images\"\n",
        "\n",
        "!rm /content/rockpaperscissors/rps-cv-images/README_rpc-cv-images.txt\n",
        "\n",
        "os.listdir(root)"
      ]
    },
    {
      "cell_type": "markdown",
      "metadata": {
        "id": "il7cVc32Kqpw"
      },
      "source": [
        "#### `Feature Engineer`"
      ]
    },
    {
      "cell_type": "code",
      "execution_count": 6,
      "metadata": {
        "id": "huXHRBfGKr7E"
      },
      "outputs": [],
      "source": [
        "rescale = 1.0 / 255.0\n",
        "\n",
        "dictlist = {'rescale':rescale, 'fill_mode':'nearest', 'validation_split':0.2}\n",
        "\n",
        "dictlist['shear_range'] = 0.1\n",
        "\n",
        "dictlist['rotation_range'] = 10\n",
        "\n",
        "dictlist['horizontal_flip'] = True\n",
        "\n",
        "trainset = tf.keras.preprocessing.image.ImageDataGenerator(**dictlist)"
      ]
    },
    {
      "cell_type": "code",
      "execution_count": null,
      "metadata": {
        "id": "JDe4XatWKtAD"
      },
      "outputs": [],
      "source": [
        "flowlist = {'target_size':(150, 150), 'batch_size':128, 'class_mode':'categorical'}\n",
        "\n",
        "train = trainset.flow_from_directory(root, subset='training', **flowlist)"
      ]
    },
    {
      "cell_type": "code",
      "execution_count": 8,
      "metadata": {
        "colab": {
          "base_uri": "https://localhost:8080/"
        },
        "id": "y1gxeFUzKuCu",
        "outputId": "dfe9fa9b-1f29-422d-83d9-b42ad6903baf"
      },
      "outputs": [
        {
          "data": {
            "text/plain": [
              "dict_keys(['paper', 'rock', 'scissors'])"
            ]
          },
          "execution_count": 8,
          "metadata": {},
          "output_type": "execute_result"
        }
      ],
      "source": [
        "train.class_indices.keys()"
      ]
    },
    {
      "cell_type": "code",
      "execution_count": 9,
      "metadata": {
        "id": "TVUo9EODKvc-"
      },
      "outputs": [],
      "source": [
        "dictlist = {'rescale':rescale, 'fill_mode':'nearest', 'validation_split':0.2}\n",
        "\n",
        "testset = tf.keras.preprocessing.image.ImageDataGenerator(**dictlist)"
      ]
    },
    {
      "cell_type": "code",
      "execution_count": null,
      "metadata": {
        "id": "dyBGPXNvKxZR"
      },
      "outputs": [],
      "source": [
        "flowlist = {'target_size':(150, 150), 'batch_size':128, 'class_mode':'categorical'}\n",
        "\n",
        "test = testset.flow_from_directory(root, subset='validation', **flowlist)"
      ]
    },
    {
      "cell_type": "markdown",
      "metadata": {
        "id": "lgx0myQfKzLW"
      },
      "source": [
        "#### `Model`"
      ]
    },
    {
      "cell_type": "code",
      "execution_count": 11,
      "metadata": {
        "id": "6iGJiDaaK1vY"
      },
      "outputs": [],
      "source": [
        "from tensorflow.keras.models import Sequential\n",
        "\n",
        "from tensorflow.keras import layers\n",
        "\n",
        "import warnings; warnings.filterwarnings('ignore')\n",
        "\n",
        "model = Sequential([\n",
        "  # Input\n",
        "  layers.Input((150, 150, 3)),\n",
        "  # Convolutional, Relu, Pooling I\n",
        "  layers.Conv2D(16, (3, 3)),\n",
        "  layers.Activation('relu'),\n",
        "  layers.MaxPool2D((2, 2)),\n",
        "  # Convolutional, Relu, Pooling II\n",
        "  layers.Conv2D(32, (3, 3)),\n",
        "  layers.Activation('relu'),\n",
        "  layers.MaxPool2D((2, 2)),\n",
        "  # Convolutional, Relu, Pooling III\n",
        "  layers.Conv2D(64, (3, 3)),\n",
        "  layers.Activation('relu'),\n",
        "  layers.MaxPool2D((2, 2)),\n",
        "  # Flatten & Relu\n",
        "  layers.Flatten(),\n",
        "  layers.Dropout(0.3),\n",
        "  layers.Dense(128),\n",
        "  layers.Activation('relu'),\n",
        "  # Final\n",
        "  layers.Dense(3, activation=\"softmax\")\n",
        "])"
      ]
    },
    {
      "cell_type": "code",
      "execution_count": 12,
      "metadata": {
        "id": "sRrAvllDLVZ9"
      },
      "outputs": [],
      "source": [
        "loss = \"categorical_crossentropy\"\n",
        "\n",
        "model.compile(optimizer=\"adam\", loss=loss, metrics=[\"accuracy\"])"
      ]
    },
    {
      "cell_type": "code",
      "execution_count": 13,
      "metadata": {
        "id": "D8wfoYK_Lyc0"
      },
      "outputs": [],
      "source": [
        "hist = model.fit(train, validation_data=test, epochs=10)"
      ]
    },
    {
      "cell_type": "markdown",
      "metadata": {
        "id": "nbFFnmKGL0Ow"
      },
      "source": [
        "#### `Model Test`"
      ]
    },
    {
      "cell_type": "code",
      "execution_count": 14,
      "metadata": {
        "colab": {
          "base_uri": "https://localhost:8080/"
        },
        "id": "v717XHJIL1pw",
        "outputId": "825146da-9d07-42d7-c247-3718afc8c36c"
      },
      "outputs": [
        {
          "data": {
            "text/plain": [
              "[0.13025182485580444, 0.9628783464431763]"
            ]
          },
          "execution_count": 14,
          "metadata": {},
          "output_type": "execute_result"
        }
      ],
      "source": [
        "model.evaluate(train, verbose=False)"
      ]
    },
    {
      "cell_type": "code",
      "execution_count": 15,
      "metadata": {
        "colab": {
          "base_uri": "https://localhost:8080/"
        },
        "id": "9-ng3OrbL5n4",
        "outputId": "6c4c9a95-9734-4bfa-ca28-568cf88f1725"
      },
      "outputs": [
        {
          "data": {
            "text/plain": [
              "[0.1799013614654541, 0.9405034184455872]"
            ]
          },
          "execution_count": 15,
          "metadata": {},
          "output_type": "execute_result"
        }
      ],
      "source": [
        "model.evaluate(test, verbose=False)"
      ]
    },
    {
      "cell_type": "code",
      "execution_count": 16,
      "metadata": {
        "colab": {
          "base_uri": "https://localhost:8080/",
          "height": 465
        },
        "id": "r7s2U96rL8Qu",
        "outputId": "8b806c88-4c6b-4b8d-c000-84c368a30a58"
      },
      "outputs": [
        {
          "data": {
            "image/png": "[encoded data removed]",
            "text/plain": [
              "<Figure size 640x480 with 1 Axes>"
            ]
          },
          "metadata": {},
          "output_type": "display_data"
        }
      ],
      "source": [
        "from Helplot import Helplot\n",
        "\n",
        "plot = Helplot(hist)\n",
        "\n",
        "plot.Relplot"
      ]
    },
    {
      "cell_type": "code",
      "execution_count": 17,
      "metadata": {
        "colab": {
          "base_uri": "https://localhost:8080/",
          "height": 465
        },
        "id": "1n1MrAM9MBh3",
        "outputId": "10b98edc-db62-4338-e64d-521839469848"
      },
      "outputs": [
        {
          "data": {
            "image/png": "[encoded data removed]",
            "text/plain": [
              "<Figure size 640x480 with 1 Axes>"
            ]
          },
          "metadata": {},
          "output_type": "display_data"
        }
      ],
      "source": [
        "plot.Falplot"
      ]
    },
    {
      "cell_type": "code",
      "execution_count": null,
      "metadata": {
        "id": "vIWX-u_cMCLK"
      },
      "outputs": [],
      "source": [
        "ModelFolder = \"/content/Modelite\"\n",
        "\n",
        "model.export(ModelFolder)"
      ]
    },
    {
      "cell_type": "markdown",
      "metadata": {
        "id": "45IXeyjXMFYR"
      },
      "source": [
        "#### `TensorFlow Lite`"
      ]
    },
    {
      "cell_type": "code",
      "execution_count": 19,
      "metadata": {
        "colab": {
          "base_uri": "https://localhost:8080/"
        },
        "id": "RCSsp40DMD3K",
        "outputId": "8ab3546c-7895-4db1-8a06-85ac48323de6"
      },
      "outputs": [
        {
          "data": {
            "text/plain": [
              "PosixPath('HutModel.tflite')"
            ]
          },
          "execution_count": 19,
          "metadata": {},
          "output_type": "execute_result"
        }
      ],
      "source": [
        "from Helper import Helite\n",
        "\n",
        "pathfile = \"HutModel.tflite\"\n",
        "\n",
        "Helite(\"/content/Modelite\", pathfile)"
      ]
    },
    {
      "cell_type": "code",
      "execution_count": 20,
      "metadata": {
        "colab": {
          "base_uri": "https://localhost:8080/"
        },
        "id": "x3gKpWiMML0Q",
        "outputId": "16bf5c3f-1232-4787-d5d9-7a75d5bfa1b7"
      },
      "outputs": [
        {
          "data": {
            "text/plain": [
              "2.2902374267578125"
            ]
          },
          "execution_count": 20,
          "metadata": {},
          "output_type": "execute_result"
        }
      ],
      "source": [
        "os.path.getsize(pathfile) / float(2**20)"
      ]
    },
    {
      "cell_type": "markdown",
      "metadata": {
        "id": "57NmemnFMNHN"
      },
      "source": [
        "#### `Test TensorFlow Lite`"
      ]
    },
    {
      "cell_type": "code",
      "execution_count": 21,
      "metadata": {
        "id": "ajgFTnxMMNe4"
      },
      "outputs": [],
      "source": [
        "from Helper import Imfile\n",
        "\n",
        "labeler = list(train.class_indices.keys())\n",
        "\n",
        "paper = \"/content/rockpaperscissors/paper/04l5I8TqdzF9WDMJ.png\"\n",
        "\n",
        "tester = Imfile(paper, (150, 150))"
      ]
    },
    {
      "cell_type": "code",
      "execution_count": 22,
      "metadata": {
        "colab": {
          "base_uri": "https://localhost:8080/"
        },
        "id": "mGNqBc5bMPVq",
        "outputId": "95f9fd75-633a-4736-8d50-99998ef21b04"
      },
      "outputs": [
        {
          "data": {
            "text/plain": [
              "{'serving_default': {'inputs': ['keras_tensor'], 'outputs': ['output_0']}}"
            ]
          },
          "execution_count": 22,
          "metadata": {},
          "output_type": "execute_result"
        }
      ],
      "source": [
        "interpreter = tf.lite.Interpreter(model_path=pathfile)\n",
        "\n",
        "interpreter.get_signature_list()"
      ]
    },
    {
      "cell_type": "code",
      "execution_count": 23,
      "metadata": {
        "colab": {
          "base_uri": "https://localhost:8080/"
        },
        "id": "3ZbW7aWKMQTx",
        "outputId": "497af648-e0bb-4f5a-9b9c-e20ecf08951a"
      },
      "outputs": [
        {
          "data": {
            "text/plain": [
              "<tensorflow.lite.python.interpreter.SignatureRunner at 0x796608218990>"
            ]
          },
          "execution_count": 23,
          "metadata": {},
          "output_type": "execute_result"
        }
      ],
      "source": [
        "lite_interpreter = interpreter.get_signature_runner('serving_default')\n",
        "\n",
        "lite_interpreter"
      ]
    },
    {
      "cell_type": "code",
      "execution_count": 24,
      "metadata": {
        "colab": {
          "base_uri": "https://localhost:8080/"
        },
        "id": "wKnmJxpGMRy1",
        "outputId": "1d086bbf-5bd4-4d8e-ce77-0356d54bcb6d"
      },
      "outputs": [
        {
          "data": {
            "text/plain": [
              "array([[0.03658328, 0.19771264, 0.76570404]], dtype=float32)"
            ]
          },
          "execution_count": 24,
          "metadata": {},
          "output_type": "execute_result"
        }
      ],
      "source": [
        "tester = lite_interpreter(keras_tensor=tester)['output_0']\n",
        "\n",
        "tester"
      ]
    },
    {
      "cell_type": "code",
      "execution_count": 25,
      "metadata": {
        "colab": {
          "base_uri": "https://localhost:8080/",
          "height": 35
        },
        "id": "wjsIlSLJMS_2",
        "outputId": "666e5df8-4188-492f-bbd3-b9e6e87cdc92"
      },
      "outputs": [
        {
          "data": {
            "application/vnd.google.colaboratory.intrinsic+json": {
              "type": "string"
            },
            "text/plain": [
              "'scissors'"
            ]
          },
          "execution_count": 25,
          "metadata": {},
          "output_type": "execute_result"
        }
      ],
      "source": [
        "labeler[tf.math.argmax(tester[0])]"
      ]
    },
    {
      "cell_type": "markdown",
      "metadata": {
        "id": "MaefEFJGMUlI"
      },
      "source": [
        "#### `Model II`"
      ]
    },
    {
      "cell_type": "code",
      "execution_count": null,
      "metadata": {
        "id": "exCHvernMZl2"
      },
      "outputs": [],
      "source": [
        "ModelFolder = \"/content/ModelContent\"\n",
        "\n",
        "ModelSerial = \"1\"\n",
        "\n",
        "ModuleFolder = os.path.join(ModelFolder, ModelSerial)\n",
        "\n",
        "model.export(ModuleFolder)"
      ]
    },
    {
      "cell_type": "code",
      "execution_count": null,
      "metadata": {
        "id": "OLhosByNMa1A"
      },
      "outputs": [],
      "source": [
        "!zip -r ModelContent.zip /content/ModelContent"
      ]
    }
  ],
  "metadata": {
    "accelerator": "GPU",
    "colab": {
      "gpuType": "T4",
      "provenance": []
    },
    "kernelspec": {
      "display_name": "Python 3",
      "name": "python3"
    },
    "language_info": {
      "name": "python"
    }
  },
  "nbformat": 4,
  "nbformat_minor": 0
}
